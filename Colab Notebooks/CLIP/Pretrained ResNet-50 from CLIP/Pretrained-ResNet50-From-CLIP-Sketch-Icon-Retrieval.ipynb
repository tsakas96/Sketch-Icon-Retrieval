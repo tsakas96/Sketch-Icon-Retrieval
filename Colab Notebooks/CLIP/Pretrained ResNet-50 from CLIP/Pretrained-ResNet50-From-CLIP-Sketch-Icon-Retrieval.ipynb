{
 "metadata": {
  "language_info": {
   "codemirror_mode": {
    "name": "ipython",
    "version": 3
   },
   "file_extension": ".py",
   "mimetype": "text/x-python",
   "name": "python",
   "nbconvert_exporter": "python",
   "pygments_lexer": "ipython3",
   "version": "3.8.5"
  },
  "orig_nbformat": 2,
  "kernelspec": {
   "name": "python3",
   "display_name": "Python 3.8.5 64-bit (conda)"
  },
  "interpreter": {
   "hash": "48e4f6c7936c2e0b6df0065aa13ec2b4b4d8e2e2f38598a1ff15d9a35070722c"
  }
 },
 "nbformat": 4,
 "nbformat_minor": 2,
 "cells": [
  {
   "cell_type": "code",
   "execution_count": 1,
   "metadata": {},
   "outputs": [],
   "source": [
    "import os\n",
    "import clip\n",
    "import torch\n",
    "from torchvision.datasets import CIFAR100\n",
    "import matplotlib.pyplot as plt"
   ]
  },
  {
   "cell_type": "code",
   "execution_count": 2,
   "metadata": {},
   "outputs": [
    {
     "output_type": "stream",
     "name": "stdout",
     "text": [
      "cuda\n"
     ]
    }
   ],
   "source": [
    "# Load the model\n",
    "device = \"cuda\" if torch.cuda.is_available() else \"cpu\"\n",
    "print(device)\n",
    "model, preprocess = clip.load('ViT-B/32', device)"
   ]
  },
  {
   "cell_type": "code",
   "execution_count": 3,
   "metadata": {},
   "outputs": [
    {
     "output_type": "stream",
     "name": "stdout",
     "text": [
      "[['accessible-icon_1.png' 'accessibility']\n ['accessible-icon_10.png' 'accessibility']\n ['accessible-icon_11.png' 'accessibility']\n ...\n ['sticky-note_7.png' 'writing']\n ['sticky-note_8.png' 'writing']\n ['sticky-note_9.png' 'writing']]\n"
     ]
    }
   ],
   "source": [
    "from PIL import Image\n",
    "import os\n",
    "import numpy as np\n",
    "\n",
    "# this is the folder name of the dataset\n",
    "# dataset_path = \"C:/Users/arist/Desktop/Thesis/Sketch-Icon-Retrieval/Sketch-Icon-Dataset/\"\n",
    "# dataset_path = \"C:/Users/arist/Desktop/Code-Quickdraw-Dataset/\"\n",
    "dataset_path = \"C:/Users/arist/Desktop/Code-Human-Dataset/\"\n",
    "# this is the folder name of the icons\n",
    "icon_path = os.path.join(dataset_path, 'icon/')\n",
    "# this is the folder name of the sketches\n",
    "sketch_path = os.path.join(dataset_path, 'sketch/')\n",
    "\n",
    "input_shape = (224, 224)\n",
    "\n",
    "def load_img(path):\n",
    "    \"\"\"\n",
    "    path: the full path of the picture\n",
    "    Load the image using cv2, store the pixels devided by 255\n",
    "    into img and resize the image to (100,100). This input size is the \n",
    "    size for mynet model\n",
    "    \"\"\"\n",
    "    img = Image.open(path)#/255\n",
    "    return img.resize(input_shape)\n",
    "\n",
    "def load_test_set():\n",
    "    \"\"\"\n",
    "    Load a numpy array created by GenerateTrainAndTestSet.ipynb file\n",
    "    The array has 2 columns (name, category) and each row is a test sketch example\n",
    "    This arrays are created, so the classification training and the triplet training will have the same\n",
    "    training and test examples. I use 10% of the sketches as test examples.\n",
    "    \"\"\"\n",
    "    return np.load(dataset_path + \"test_set_human.npy\")\n",
    "\n",
    "def get_icons_and_sketches():\n",
    "    \"\"\"[summary]\n",
    "    icon_name: list of the icon names in all the category folders\n",
    "    icon_category: list of the icon categories. this list is parallel with icon_name\n",
    "    as a result for each icon I store its category\n",
    "    sketch_name: list of the sketch names in all the category folders\n",
    "    sketch_category: list of the sketch categories. this list is parallel with sketch_name\n",
    "    as a result for each sketch I store its category\n",
    "\n",
    "    Returns:\n",
    "    icon_name_category: np array with two columns (icon name, icon category)\n",
    "    sketch_name_category: np array with two columns (sketch name, sketch category)\n",
    "    \"\"\"\n",
    "    icon_name = []\n",
    "    icon_category = []\n",
    "    sketch_name = []\n",
    "    sketch_category = []\n",
    "\n",
    "    for category in os.listdir(icon_path):\n",
    "        category_path_icon = os.path.join(icon_path, category)\n",
    "        for icon in os.listdir(category_path_icon):\n",
    "            icon_name.append(icon.replace(\".jpg\",\"\"))\n",
    "            icon_category.append(category)\n",
    "    for category in os.listdir(sketch_path):\n",
    "        category_path_sketch = os.path.join(sketch_path, category)\n",
    "        for sketch in os.listdir(category_path_sketch):\n",
    "            sketch_name.append(sketch)\n",
    "            sketch_category.append(category)\n",
    "    \n",
    "    icon_name_category =  np.column_stack((icon_name, icon_category))\n",
    "    sketch_name_category =  np.column_stack((sketch_name, sketch_category))\n",
    "    \n",
    "    return icon_name_category, sketch_name_category\n",
    "\n",
    "def get_batch_sketches(batch_sketches):\n",
    "    \"\"\"[summary]\n",
    "\n",
    "    Args:\n",
    "        batch_sketches np.array(sketch name, sketch category): numpy array of sketch names and categories as columns\n",
    "\n",
    "    Returns:\n",
    "        sketches tensor(BATCH_SIZE, 3, 224, 224): batch of sketches as pixels\n",
    "    \"\"\"\n",
    "    s_ = []\n",
    "    for sketch, category in batch_sketches:\n",
    "        sketch_path_file = sketch_path + category + \"/\" + sketch\n",
    "        s_.append(sketch_path_file)\n",
    "    sketch_list = []\n",
    "    for image_path in s_:\n",
    "        image = load_img(image_path)\n",
    "        image_tensor = preprocess(image).unsqueeze(0).to(device)\n",
    "        sketch_list.append(image_tensor)\n",
    "\n",
    "    return torch.cat([x.float() for x in sketch_list], dim=0)\n",
    "\n",
    "def get_batch_icons(batch_icons):\n",
    "    \"\"\"[summary]\n",
    "\n",
    "    Args:\n",
    "        batch_icons np.array(icon name, icon category): numpy array of icon names and categories as columns\n",
    "\n",
    "    Returns:\n",
    "        icons tensor(BATCH_SIZE, 3, 224, 224): batch of icons as pixels\n",
    "    \"\"\"\n",
    "    i_ = []\n",
    "    for icon, category in batch_icons:\n",
    "        icon_path_file = icon_path + category + \"/\" + icon + \".jpg\"\n",
    "        i_.append(icon_path_file)\n",
    "\n",
    "    icon_list = []\n",
    "    for image_path in i_:\n",
    "        image = load_img(image_path)\n",
    "        image_tensor = preprocess(image).unsqueeze(0).to(device)\n",
    "        icon_list.append(image_tensor)\n",
    "\n",
    "    return torch.cat([x.float() for x in icon_list], dim=0)\n",
    "\n",
    "icon_name_category, sketch_name_category = get_icons_and_sketches()\n",
    "print(sketch_name_category)"
   ]
  },
  {
   "cell_type": "code",
   "execution_count": 4,
   "metadata": {},
   "outputs": [],
   "source": [
    "options = 1\n",
    "if options == 0:\n",
    "    sketches_Test = sketch_name_category\n",
    "    icons_Test = icon_name_category\n",
    "elif options == 1:\n",
    "    sketches_Test = load_test_set()\n",
    "    icons_Test = icon_name_category"
   ]
  },
  {
   "cell_type": "code",
   "execution_count": 62,
   "metadata": {},
   "outputs": [],
   "source": [
    "text_inputs = torch.cat([clip.tokenize(f\"a sketch of a {c}\") for c,_ in icons_Test]).to(device)\n",
    "# Calculate features\n",
    "with torch.no_grad():\n",
    "    text_features = model.encode_text(text_inputs)"
   ]
  },
  {
   "cell_type": "code",
   "execution_count": 5,
   "metadata": {},
   "outputs": [
    {
     "output_type": "stream",
     "name": "stdout",
     "text": [
      "0\n"
     ]
    }
   ],
   "source": [
    "sketch_features_list = []\n",
    "BATCH_SIZE = 1024\n",
    "for j in range(0, len(sketches_Test), BATCH_SIZE):\n",
    "    batch_sketches = sketches_Test[j:j+BATCH_SIZE]\n",
    "    sketch_array = get_batch_sketches(batch_sketches)\n",
    "    with torch.no_grad():\n",
    "        sketch_features = model.encode_image(sketch_array)\n",
    "    sketch_features_list.append(sketch_features)\n",
    "    print(str(j))\n",
    "sketch_features_tensor = torch.cat([x.float() for x in sketch_features_list], dim=0)"
   ]
  },
  {
   "cell_type": "code",
   "execution_count": 64,
   "metadata": {},
   "outputs": [
    {
     "output_type": "stream",
     "name": "stdout",
     "text": [
      "Top 1: 0.09622641509433963\nTop 10: 0.269811320754717\n"
     ]
    }
   ],
   "source": [
    "text_features = text_features.float()\n",
    "acc_1 = 0\n",
    "acc_10 = 0\n",
    "\n",
    "for sketch_features, (name,_) in zip(sketch_features_tensor, sketches_Test):\n",
    "    # Pick the top 5 most similar labels for the image\n",
    "    sketch_features = sketch_features.unsqueeze(0)\n",
    "    sketch_features /= sketch_features.norm(dim=-1, keepdim=True)\n",
    "    text_features /= text_features.norm(dim=-1, keepdim=True)\n",
    "\n",
    "    similarity = (100.0 * sketch_features @ text_features.T).softmax(dim=-1)\n",
    "    values, indices = similarity[0].topk(10)\n",
    "    top_10 = 0\n",
    "    count = 0\n",
    "    for index in indices:\n",
    "        if icons_Test[index][0] == name.split(\"_\")[0] and count == 0:\n",
    "            acc_1 = acc_1 + 1\n",
    "            acc_10 = acc_10 + 1\n",
    "            break\n",
    "        elif icons_Test[index][0] == name.split(\"_\")[0]:\n",
    "            acc_10 = acc_10 + 1\n",
    "            break\n",
    "        count = count + 1\n",
    "\n",
    "print(\"Top 1: \" + str(acc_1/len(sketches_Test)))\n",
    "print(\"Top 10: \" + str(acc_10/len(sketches_Test)))   "
   ]
  },
  {
   "cell_type": "code",
   "execution_count": 6,
   "metadata": {},
   "outputs": [
    {
     "output_type": "stream",
     "name": "stdout",
     "text": [
      "0\n",
      "1024\n"
     ]
    }
   ],
   "source": [
    "icon_features_list = []\n",
    "BATCH_SIZE = 1024\n",
    "for j in range(0, len(icons_Test), BATCH_SIZE):\n",
    "    batch_icons = icons_Test[j:j+BATCH_SIZE]\n",
    "    icon_array = get_batch_icons(batch_icons)\n",
    "    with torch.no_grad():\n",
    "        icon_features = model.encode_image(icon_array)\n",
    "    icon_features_list.append(icon_features)\n",
    "    print(str(j))\n",
    "icon_features_tensor = torch.cat([x.float() for x in icon_features_list], dim=0)"
   ]
  },
  {
   "source": [
    "## Sketch-Icon Retrieval tested with cosine similarity"
   ],
   "cell_type": "markdown",
   "metadata": {}
  },
  {
   "cell_type": "code",
   "execution_count": 9,
   "metadata": {},
   "outputs": [
    {
     "output_type": "stream",
     "name": "stdout",
     "text": [
      "Top 1: 0.2043956043956044\nTop 10: 0.4967032967032967\n"
     ]
    },
    {
     "output_type": "display_data",
     "data": {
      "text/plain": "<Figure size 432x288 with 1 Axes>",
      "image/svg+xml": "<?xml version=\"1.0\" encoding=\"utf-8\" standalone=\"no\"?>\r\n<!DOCTYPE svg PUBLIC \"-//W3C//DTD SVG 1.1//EN\"\r\n  \"http://www.w3.org/Graphics/SVG/1.1/DTD/svg11.dtd\">\r\n<svg height=\"277.314375pt\" version=\"1.1\" viewBox=\"0 0 382.603125 277.314375\" width=\"382.603125pt\" xmlns=\"http://www.w3.org/2000/svg\" xmlns:xlink=\"http://www.w3.org/1999/xlink\">\r\n <metadata>\r\n  <rdf:RDF xmlns:cc=\"http://creativecommons.org/ns#\" xmlns:dc=\"http://purl.org/dc/elements/1.1/\" xmlns:rdf=\"http://www.w3.org/1999/02/22-rdf-syntax-ns#\">\r\n   <cc:Work>\r\n    <dc:type rdf:resource=\"http://purl.org/dc/dcmitype/StillImage\"/>\r\n    <dc:date>2021-06-21T00:48:39.075301</dc:date>\r\n    <dc:format>image/svg+xml</dc:format>\r\n    <dc:creator>\r\n     <cc:Agent>\r\n      <dc:title>Matplotlib v3.4.2, https://matplotlib.org/</dc:title>\r\n     </cc:Agent>\r\n    </dc:creator>\r\n   </cc:Work>\r\n  </rdf:RDF>\r\n </metadata>\r\n <defs>\r\n  <style type=\"text/css\">*{stroke-linecap:butt;stroke-linejoin:round;}</style>\r\n </defs>\r\n <g id=\"figure_1\">\r\n  <g id=\"patch_1\">\r\n   <path d=\"M 0 277.314375 \r\nL 382.603125 277.314375 \r\nL 382.603125 0 \r\nL 0 0 \r\nz\r\n\" style=\"fill:none;\"/>\r\n  </g>\r\n  <g id=\"axes_1\">\r\n   <g id=\"patch_2\">\r\n    <path d=\"M 40.603125 239.758125 \r\nL 375.403125 239.758125 \r\nL 375.403125 22.318125 \r\nL 40.603125 22.318125 \r\nz\r\n\" style=\"fill:#ffffff;\"/>\r\n   </g>\r\n   <g id=\"matplotlib.axis_1\">\r\n    <g id=\"xtick_1\">\r\n     <g id=\"line2d_1\">\r\n      <defs>\r\n       <path d=\"M 0 0 \r\nL 0 3.5 \r\n\" id=\"m111b80c295\" style=\"stroke:#000000;stroke-width:0.8;\"/>\r\n      </defs>\r\n      <g>\r\n       <use style=\"stroke:#000000;stroke-width:0.8;\" x=\"89.639489\" xlink:href=\"#m111b80c295\" y=\"239.758125\"/>\r\n      </g>\r\n     </g>\r\n     <g id=\"text_1\">\r\n      <!-- 2 -->\r\n      <g transform=\"translate(86.458239 254.356562)scale(0.1 -0.1)\">\r\n       <defs>\r\n        <path d=\"M 1228 531 \r\nL 3431 531 \r\nL 3431 0 \r\nL 469 0 \r\nL 469 531 \r\nQ 828 903 1448 1529 \r\nQ 2069 2156 2228 2338 \r\nQ 2531 2678 2651 2914 \r\nQ 2772 3150 2772 3378 \r\nQ 2772 3750 2511 3984 \r\nQ 2250 4219 1831 4219 \r\nQ 1534 4219 1204 4116 \r\nQ 875 4013 500 3803 \r\nL 500 4441 \r\nQ 881 4594 1212 4672 \r\nQ 1544 4750 1819 4750 \r\nQ 2544 4750 2975 4387 \r\nQ 3406 4025 3406 3419 \r\nQ 3406 3131 3298 2873 \r\nQ 3191 2616 2906 2266 \r\nQ 2828 2175 2409 1742 \r\nQ 1991 1309 1228 531 \r\nz\r\n\" id=\"DejaVuSans-32\" transform=\"scale(0.015625)\"/>\r\n       </defs>\r\n       <use xlink:href=\"#DejaVuSans-32\"/>\r\n      </g>\r\n     </g>\r\n    </g>\r\n    <g id=\"xtick_2\">\r\n     <g id=\"line2d_2\">\r\n      <g>\r\n       <use style=\"stroke:#000000;stroke-width:0.8;\" x=\"157.275852\" xlink:href=\"#m111b80c295\" y=\"239.758125\"/>\r\n      </g>\r\n     </g>\r\n     <g id=\"text_2\">\r\n      <!-- 4 -->\r\n      <g transform=\"translate(154.094602 254.356562)scale(0.1 -0.1)\">\r\n       <defs>\r\n        <path d=\"M 2419 4116 \r\nL 825 1625 \r\nL 2419 1625 \r\nL 2419 4116 \r\nz\r\nM 2253 4666 \r\nL 3047 4666 \r\nL 3047 1625 \r\nL 3713 1625 \r\nL 3713 1100 \r\nL 3047 1100 \r\nL 3047 0 \r\nL 2419 0 \r\nL 2419 1100 \r\nL 313 1100 \r\nL 313 1709 \r\nL 2253 4666 \r\nz\r\n\" id=\"DejaVuSans-34\" transform=\"scale(0.015625)\"/>\r\n       </defs>\r\n       <use xlink:href=\"#DejaVuSans-34\"/>\r\n      </g>\r\n     </g>\r\n    </g>\r\n    <g id=\"xtick_3\">\r\n     <g id=\"line2d_3\">\r\n      <g>\r\n       <use style=\"stroke:#000000;stroke-width:0.8;\" x=\"224.912216\" xlink:href=\"#m111b80c295\" y=\"239.758125\"/>\r\n      </g>\r\n     </g>\r\n     <g id=\"text_3\">\r\n      <!-- 6 -->\r\n      <g transform=\"translate(221.730966 254.356562)scale(0.1 -0.1)\">\r\n       <defs>\r\n        <path d=\"M 2113 2584 \r\nQ 1688 2584 1439 2293 \r\nQ 1191 2003 1191 1497 \r\nQ 1191 994 1439 701 \r\nQ 1688 409 2113 409 \r\nQ 2538 409 2786 701 \r\nQ 3034 994 3034 1497 \r\nQ 3034 2003 2786 2293 \r\nQ 2538 2584 2113 2584 \r\nz\r\nM 3366 4563 \r\nL 3366 3988 \r\nQ 3128 4100 2886 4159 \r\nQ 2644 4219 2406 4219 \r\nQ 1781 4219 1451 3797 \r\nQ 1122 3375 1075 2522 \r\nQ 1259 2794 1537 2939 \r\nQ 1816 3084 2150 3084 \r\nQ 2853 3084 3261 2657 \r\nQ 3669 2231 3669 1497 \r\nQ 3669 778 3244 343 \r\nQ 2819 -91 2113 -91 \r\nQ 1303 -91 875 529 \r\nQ 447 1150 447 2328 \r\nQ 447 3434 972 4092 \r\nQ 1497 4750 2381 4750 \r\nQ 2619 4750 2861 4703 \r\nQ 3103 4656 3366 4563 \r\nz\r\n\" id=\"DejaVuSans-36\" transform=\"scale(0.015625)\"/>\r\n       </defs>\r\n       <use xlink:href=\"#DejaVuSans-36\"/>\r\n      </g>\r\n     </g>\r\n    </g>\r\n    <g id=\"xtick_4\">\r\n     <g id=\"line2d_4\">\r\n      <g>\r\n       <use style=\"stroke:#000000;stroke-width:0.8;\" x=\"292.54858\" xlink:href=\"#m111b80c295\" y=\"239.758125\"/>\r\n      </g>\r\n     </g>\r\n     <g id=\"text_4\">\r\n      <!-- 8 -->\r\n      <g transform=\"translate(289.36733 254.356562)scale(0.1 -0.1)\">\r\n       <defs>\r\n        <path d=\"M 2034 2216 \r\nQ 1584 2216 1326 1975 \r\nQ 1069 1734 1069 1313 \r\nQ 1069 891 1326 650 \r\nQ 1584 409 2034 409 \r\nQ 2484 409 2743 651 \r\nQ 3003 894 3003 1313 \r\nQ 3003 1734 2745 1975 \r\nQ 2488 2216 2034 2216 \r\nz\r\nM 1403 2484 \r\nQ 997 2584 770 2862 \r\nQ 544 3141 544 3541 \r\nQ 544 4100 942 4425 \r\nQ 1341 4750 2034 4750 \r\nQ 2731 4750 3128 4425 \r\nQ 3525 4100 3525 3541 \r\nQ 3525 3141 3298 2862 \r\nQ 3072 2584 2669 2484 \r\nQ 3125 2378 3379 2068 \r\nQ 3634 1759 3634 1313 \r\nQ 3634 634 3220 271 \r\nQ 2806 -91 2034 -91 \r\nQ 1263 -91 848 271 \r\nQ 434 634 434 1313 \r\nQ 434 1759 690 2068 \r\nQ 947 2378 1403 2484 \r\nz\r\nM 1172 3481 \r\nQ 1172 3119 1398 2916 \r\nQ 1625 2713 2034 2713 \r\nQ 2441 2713 2670 2916 \r\nQ 2900 3119 2900 3481 \r\nQ 2900 3844 2670 4047 \r\nQ 2441 4250 2034 4250 \r\nQ 1625 4250 1398 4047 \r\nQ 1172 3844 1172 3481 \r\nz\r\n\" id=\"DejaVuSans-38\" transform=\"scale(0.015625)\"/>\r\n       </defs>\r\n       <use xlink:href=\"#DejaVuSans-38\"/>\r\n      </g>\r\n     </g>\r\n    </g>\r\n    <g id=\"xtick_5\">\r\n     <g id=\"line2d_5\">\r\n      <g>\r\n       <use style=\"stroke:#000000;stroke-width:0.8;\" x=\"360.184943\" xlink:href=\"#m111b80c295\" y=\"239.758125\"/>\r\n      </g>\r\n     </g>\r\n     <g id=\"text_5\">\r\n      <!-- 10 -->\r\n      <g transform=\"translate(353.822443 254.356562)scale(0.1 -0.1)\">\r\n       <defs>\r\n        <path d=\"M 794 531 \r\nL 1825 531 \r\nL 1825 4091 \r\nL 703 3866 \r\nL 703 4441 \r\nL 1819 4666 \r\nL 2450 4666 \r\nL 2450 531 \r\nL 3481 531 \r\nL 3481 0 \r\nL 794 0 \r\nL 794 531 \r\nz\r\n\" id=\"DejaVuSans-31\" transform=\"scale(0.015625)\"/>\r\n        <path d=\"M 2034 4250 \r\nQ 1547 4250 1301 3770 \r\nQ 1056 3291 1056 2328 \r\nQ 1056 1369 1301 889 \r\nQ 1547 409 2034 409 \r\nQ 2525 409 2770 889 \r\nQ 3016 1369 3016 2328 \r\nQ 3016 3291 2770 3770 \r\nQ 2525 4250 2034 4250 \r\nz\r\nM 2034 4750 \r\nQ 2819 4750 3233 4129 \r\nQ 3647 3509 3647 2328 \r\nQ 3647 1150 3233 529 \r\nQ 2819 -91 2034 -91 \r\nQ 1250 -91 836 529 \r\nQ 422 1150 422 2328 \r\nQ 422 3509 836 4129 \r\nQ 1250 4750 2034 4750 \r\nz\r\n\" id=\"DejaVuSans-30\" transform=\"scale(0.015625)\"/>\r\n       </defs>\r\n       <use xlink:href=\"#DejaVuSans-31\"/>\r\n       <use x=\"63.623047\" xlink:href=\"#DejaVuSans-30\"/>\r\n      </g>\r\n     </g>\r\n    </g>\r\n    <g id=\"text_6\">\r\n     <!-- Rank(k) -->\r\n     <g transform=\"translate(188.716406 268.034687)scale(0.1 -0.1)\">\r\n      <defs>\r\n       <path d=\"M 2841 2188 \r\nQ 3044 2119 3236 1894 \r\nQ 3428 1669 3622 1275 \r\nL 4263 0 \r\nL 3584 0 \r\nL 2988 1197 \r\nQ 2756 1666 2539 1819 \r\nQ 2322 1972 1947 1972 \r\nL 1259 1972 \r\nL 1259 0 \r\nL 628 0 \r\nL 628 4666 \r\nL 2053 4666 \r\nQ 2853 4666 3247 4331 \r\nQ 3641 3997 3641 3322 \r\nQ 3641 2881 3436 2590 \r\nQ 3231 2300 2841 2188 \r\nz\r\nM 1259 4147 \r\nL 1259 2491 \r\nL 2053 2491 \r\nQ 2509 2491 2742 2702 \r\nQ 2975 2913 2975 3322 \r\nQ 2975 3731 2742 3939 \r\nQ 2509 4147 2053 4147 \r\nL 1259 4147 \r\nz\r\n\" id=\"DejaVuSans-52\" transform=\"scale(0.015625)\"/>\r\n       <path d=\"M 2194 1759 \r\nQ 1497 1759 1228 1600 \r\nQ 959 1441 959 1056 \r\nQ 959 750 1161 570 \r\nQ 1363 391 1709 391 \r\nQ 2188 391 2477 730 \r\nQ 2766 1069 2766 1631 \r\nL 2766 1759 \r\nL 2194 1759 \r\nz\r\nM 3341 1997 \r\nL 3341 0 \r\nL 2766 0 \r\nL 2766 531 \r\nQ 2569 213 2275 61 \r\nQ 1981 -91 1556 -91 \r\nQ 1019 -91 701 211 \r\nQ 384 513 384 1019 \r\nQ 384 1609 779 1909 \r\nQ 1175 2209 1959 2209 \r\nL 2766 2209 \r\nL 2766 2266 \r\nQ 2766 2663 2505 2880 \r\nQ 2244 3097 1772 3097 \r\nQ 1472 3097 1187 3025 \r\nQ 903 2953 641 2809 \r\nL 641 3341 \r\nQ 956 3463 1253 3523 \r\nQ 1550 3584 1831 3584 \r\nQ 2591 3584 2966 3190 \r\nQ 3341 2797 3341 1997 \r\nz\r\n\" id=\"DejaVuSans-61\" transform=\"scale(0.015625)\"/>\r\n       <path d=\"M 3513 2113 \r\nL 3513 0 \r\nL 2938 0 \r\nL 2938 2094 \r\nQ 2938 2591 2744 2837 \r\nQ 2550 3084 2163 3084 \r\nQ 1697 3084 1428 2787 \r\nQ 1159 2491 1159 1978 \r\nL 1159 0 \r\nL 581 0 \r\nL 581 3500 \r\nL 1159 3500 \r\nL 1159 2956 \r\nQ 1366 3272 1645 3428 \r\nQ 1925 3584 2291 3584 \r\nQ 2894 3584 3203 3211 \r\nQ 3513 2838 3513 2113 \r\nz\r\n\" id=\"DejaVuSans-6e\" transform=\"scale(0.015625)\"/>\r\n       <path d=\"M 581 4863 \r\nL 1159 4863 \r\nL 1159 1991 \r\nL 2875 3500 \r\nL 3609 3500 \r\nL 1753 1863 \r\nL 3688 0 \r\nL 2938 0 \r\nL 1159 1709 \r\nL 1159 0 \r\nL 581 0 \r\nL 581 4863 \r\nz\r\n\" id=\"DejaVuSans-6b\" transform=\"scale(0.015625)\"/>\r\n       <path d=\"M 1984 4856 \r\nQ 1566 4138 1362 3434 \r\nQ 1159 2731 1159 2009 \r\nQ 1159 1288 1364 580 \r\nQ 1569 -128 1984 -844 \r\nL 1484 -844 \r\nQ 1016 -109 783 600 \r\nQ 550 1309 550 2009 \r\nQ 550 2706 781 3412 \r\nQ 1013 4119 1484 4856 \r\nL 1984 4856 \r\nz\r\n\" id=\"DejaVuSans-28\" transform=\"scale(0.015625)\"/>\r\n       <path d=\"M 513 4856 \r\nL 1013 4856 \r\nQ 1481 4119 1714 3412 \r\nQ 1947 2706 1947 2009 \r\nQ 1947 1309 1714 600 \r\nQ 1481 -109 1013 -844 \r\nL 513 -844 \r\nQ 928 -128 1133 580 \r\nQ 1338 1288 1338 2009 \r\nQ 1338 2731 1133 3434 \r\nQ 928 4138 513 4856 \r\nz\r\n\" id=\"DejaVuSans-29\" transform=\"scale(0.015625)\"/>\r\n      </defs>\r\n      <use xlink:href=\"#DejaVuSans-52\"/>\r\n      <use x=\"67.232422\" xlink:href=\"#DejaVuSans-61\"/>\r\n      <use x=\"128.511719\" xlink:href=\"#DejaVuSans-6e\"/>\r\n      <use x=\"191.890625\" xlink:href=\"#DejaVuSans-6b\"/>\r\n      <use x=\"249.800781\" xlink:href=\"#DejaVuSans-28\"/>\r\n      <use x=\"288.814453\" xlink:href=\"#DejaVuSans-6b\"/>\r\n      <use x=\"346.724609\" xlink:href=\"#DejaVuSans-29\"/>\r\n     </g>\r\n    </g>\r\n   </g>\r\n   <g id=\"matplotlib.axis_2\">\r\n    <g id=\"ytick_1\">\r\n     <g id=\"line2d_6\">\r\n      <defs>\r\n       <path d=\"M 0 0 \r\nL -3.5 0 \r\n\" id=\"mc5eaa6ac96\" style=\"stroke:#000000;stroke-width:0.8;\"/>\r\n      </defs>\r\n      <g>\r\n       <use style=\"stroke:#000000;stroke-width:0.8;\" x=\"40.603125\" xlink:href=\"#mc5eaa6ac96\" y=\"232.847011\"/>\r\n      </g>\r\n     </g>\r\n     <g id=\"text_7\">\r\n      <!-- 20 -->\r\n      <g transform=\"translate(20.878125 236.64623)scale(0.1 -0.1)\">\r\n       <use xlink:href=\"#DejaVuSans-32\"/>\r\n       <use x=\"63.623047\" xlink:href=\"#DejaVuSans-30\"/>\r\n      </g>\r\n     </g>\r\n    </g>\r\n    <g id=\"ytick_2\">\r\n     <g id=\"line2d_7\">\r\n      <g>\r\n       <use style=\"stroke:#000000;stroke-width:0.8;\" x=\"40.603125\" xlink:href=\"#mc5eaa6ac96\" y=\"199.034571\"/>\r\n      </g>\r\n     </g>\r\n     <g id=\"text_8\">\r\n      <!-- 25 -->\r\n      <g transform=\"translate(20.878125 202.833789)scale(0.1 -0.1)\">\r\n       <defs>\r\n        <path d=\"M 691 4666 \r\nL 3169 4666 \r\nL 3169 4134 \r\nL 1269 4134 \r\nL 1269 2991 \r\nQ 1406 3038 1543 3061 \r\nQ 1681 3084 1819 3084 \r\nQ 2600 3084 3056 2656 \r\nQ 3513 2228 3513 1497 \r\nQ 3513 744 3044 326 \r\nQ 2575 -91 1722 -91 \r\nQ 1428 -91 1123 -41 \r\nQ 819 9 494 109 \r\nL 494 744 \r\nQ 775 591 1075 516 \r\nQ 1375 441 1709 441 \r\nQ 2250 441 2565 725 \r\nQ 2881 1009 2881 1497 \r\nQ 2881 1984 2565 2268 \r\nQ 2250 2553 1709 2553 \r\nQ 1456 2553 1204 2497 \r\nQ 953 2441 691 2322 \r\nL 691 4666 \r\nz\r\n\" id=\"DejaVuSans-35\" transform=\"scale(0.015625)\"/>\r\n       </defs>\r\n       <use xlink:href=\"#DejaVuSans-32\"/>\r\n       <use x=\"63.623047\" xlink:href=\"#DejaVuSans-35\"/>\r\n      </g>\r\n     </g>\r\n    </g>\r\n    <g id=\"ytick_3\">\r\n     <g id=\"line2d_8\">\r\n      <g>\r\n       <use style=\"stroke:#000000;stroke-width:0.8;\" x=\"40.603125\" xlink:href=\"#mc5eaa6ac96\" y=\"165.22213\"/>\r\n      </g>\r\n     </g>\r\n     <g id=\"text_9\">\r\n      <!-- 30 -->\r\n      <g transform=\"translate(20.878125 169.021349)scale(0.1 -0.1)\">\r\n       <defs>\r\n        <path d=\"M 2597 2516 \r\nQ 3050 2419 3304 2112 \r\nQ 3559 1806 3559 1356 \r\nQ 3559 666 3084 287 \r\nQ 2609 -91 1734 -91 \r\nQ 1441 -91 1130 -33 \r\nQ 819 25 488 141 \r\nL 488 750 \r\nQ 750 597 1062 519 \r\nQ 1375 441 1716 441 \r\nQ 2309 441 2620 675 \r\nQ 2931 909 2931 1356 \r\nQ 2931 1769 2642 2001 \r\nQ 2353 2234 1838 2234 \r\nL 1294 2234 \r\nL 1294 2753 \r\nL 1863 2753 \r\nQ 2328 2753 2575 2939 \r\nQ 2822 3125 2822 3475 \r\nQ 2822 3834 2567 4026 \r\nQ 2313 4219 1838 4219 \r\nQ 1578 4219 1281 4162 \r\nQ 984 4106 628 3988 \r\nL 628 4550 \r\nQ 988 4650 1302 4700 \r\nQ 1616 4750 1894 4750 \r\nQ 2613 4750 3031 4423 \r\nQ 3450 4097 3450 3541 \r\nQ 3450 3153 3228 2886 \r\nQ 3006 2619 2597 2516 \r\nz\r\n\" id=\"DejaVuSans-33\" transform=\"scale(0.015625)\"/>\r\n       </defs>\r\n       <use xlink:href=\"#DejaVuSans-33\"/>\r\n       <use x=\"63.623047\" xlink:href=\"#DejaVuSans-30\"/>\r\n      </g>\r\n     </g>\r\n    </g>\r\n    <g id=\"ytick_4\">\r\n     <g id=\"line2d_9\">\r\n      <g>\r\n       <use style=\"stroke:#000000;stroke-width:0.8;\" x=\"40.603125\" xlink:href=\"#mc5eaa6ac96\" y=\"131.40969\"/>\r\n      </g>\r\n     </g>\r\n     <g id=\"text_10\">\r\n      <!-- 35 -->\r\n      <g transform=\"translate(20.878125 135.208909)scale(0.1 -0.1)\">\r\n       <use xlink:href=\"#DejaVuSans-33\"/>\r\n       <use x=\"63.623047\" xlink:href=\"#DejaVuSans-35\"/>\r\n      </g>\r\n     </g>\r\n    </g>\r\n    <g id=\"ytick_5\">\r\n     <g id=\"line2d_10\">\r\n      <g>\r\n       <use style=\"stroke:#000000;stroke-width:0.8;\" x=\"40.603125\" xlink:href=\"#mc5eaa6ac96\" y=\"97.59725\"/>\r\n      </g>\r\n     </g>\r\n     <g id=\"text_11\">\r\n      <!-- 40 -->\r\n      <g transform=\"translate(20.878125 101.396469)scale(0.1 -0.1)\">\r\n       <use xlink:href=\"#DejaVuSans-34\"/>\r\n       <use x=\"63.623047\" xlink:href=\"#DejaVuSans-30\"/>\r\n      </g>\r\n     </g>\r\n    </g>\r\n    <g id=\"ytick_6\">\r\n     <g id=\"line2d_11\">\r\n      <g>\r\n       <use style=\"stroke:#000000;stroke-width:0.8;\" x=\"40.603125\" xlink:href=\"#mc5eaa6ac96\" y=\"63.78481\"/>\r\n      </g>\r\n     </g>\r\n     <g id=\"text_12\">\r\n      <!-- 45 -->\r\n      <g transform=\"translate(20.878125 67.584029)scale(0.1 -0.1)\">\r\n       <use xlink:href=\"#DejaVuSans-34\"/>\r\n       <use x=\"63.623047\" xlink:href=\"#DejaVuSans-35\"/>\r\n      </g>\r\n     </g>\r\n    </g>\r\n    <g id=\"ytick_7\">\r\n     <g id=\"line2d_12\">\r\n      <g>\r\n       <use style=\"stroke:#000000;stroke-width:0.8;\" x=\"40.603125\" xlink:href=\"#mc5eaa6ac96\" y=\"29.97237\"/>\r\n      </g>\r\n     </g>\r\n     <g id=\"text_13\">\r\n      <!-- 50 -->\r\n      <g transform=\"translate(20.878125 33.771588)scale(0.1 -0.1)\">\r\n       <use xlink:href=\"#DejaVuSans-35\"/>\r\n       <use x=\"63.623047\" xlink:href=\"#DejaVuSans-30\"/>\r\n      </g>\r\n     </g>\r\n    </g>\r\n    <g id=\"text_14\">\r\n     <!-- acc @k -->\r\n     <g transform=\"translate(14.798438 149.085)rotate(-90)scale(0.1 -0.1)\">\r\n      <defs>\r\n       <path d=\"M 3122 3366 \r\nL 3122 2828 \r\nQ 2878 2963 2633 3030 \r\nQ 2388 3097 2138 3097 \r\nQ 1578 3097 1268 2742 \r\nQ 959 2388 959 1747 \r\nQ 959 1106 1268 751 \r\nQ 1578 397 2138 397 \r\nQ 2388 397 2633 464 \r\nQ 2878 531 3122 666 \r\nL 3122 134 \r\nQ 2881 22 2623 -34 \r\nQ 2366 -91 2075 -91 \r\nQ 1284 -91 818 406 \r\nQ 353 903 353 1747 \r\nQ 353 2603 823 3093 \r\nQ 1294 3584 2113 3584 \r\nQ 2378 3584 2631 3529 \r\nQ 2884 3475 3122 3366 \r\nz\r\n\" id=\"DejaVuSans-63\" transform=\"scale(0.015625)\"/>\r\n       <path id=\"DejaVuSans-20\" transform=\"scale(0.015625)\"/>\r\n       <path d=\"M 2381 1678 \r\nQ 2381 1231 2603 976 \r\nQ 2825 722 3213 722 \r\nQ 3597 722 3817 978 \r\nQ 4038 1234 4038 1678 \r\nQ 4038 2116 3813 2373 \r\nQ 3588 2631 3206 2631 \r\nQ 2828 2631 2604 2375 \r\nQ 2381 2119 2381 1678 \r\nz\r\nM 4084 744 \r\nQ 3897 503 3655 389 \r\nQ 3413 275 3091 275 \r\nQ 2553 275 2217 664 \r\nQ 1881 1053 1881 1678 \r\nQ 1881 2303 2218 2693 \r\nQ 2556 3084 3091 3084 \r\nQ 3413 3084 3656 2967 \r\nQ 3900 2850 4084 2613 \r\nL 4084 3022 \r\nL 4531 3022 \r\nL 4531 722 \r\nQ 4988 791 5245 1139 \r\nQ 5503 1488 5503 2041 \r\nQ 5503 2375 5404 2669 \r\nQ 5306 2963 5106 3213 \r\nQ 4781 3622 4314 3839 \r\nQ 3847 4056 3297 4056 \r\nQ 2913 4056 2559 3954 \r\nQ 2206 3853 1906 3653 \r\nQ 1416 3334 1139 2817 \r\nQ 863 2300 863 1697 \r\nQ 863 1200 1042 765 \r\nQ 1222 331 1563 0 \r\nQ 1891 -325 2322 -495 \r\nQ 2753 -666 3244 -666 \r\nQ 3647 -666 4036 -530 \r\nQ 4425 -394 4750 -141 \r\nL 5031 -488 \r\nQ 4641 -791 4180 -952 \r\nQ 3719 -1113 3244 -1113 \r\nQ 2666 -1113 2153 -908 \r\nQ 1641 -703 1241 -313 \r\nQ 841 78 631 592 \r\nQ 422 1106 422 1697 \r\nQ 422 2266 634 2781 \r\nQ 847 3297 1241 3688 \r\nQ 1644 4084 2172 4295 \r\nQ 2700 4506 3291 4506 \r\nQ 3953 4506 4520 4234 \r\nQ 5088 3963 5472 3463 \r\nQ 5706 3156 5829 2797 \r\nQ 5953 2438 5953 2053 \r\nQ 5953 1231 5456 756 \r\nQ 4959 281 4084 263 \r\nL 4084 744 \r\nz\r\n\" id=\"DejaVuSans-40\" transform=\"scale(0.015625)\"/>\r\n      </defs>\r\n      <use xlink:href=\"#DejaVuSans-61\"/>\r\n      <use x=\"61.279297\" xlink:href=\"#DejaVuSans-63\"/>\r\n      <use x=\"116.259766\" xlink:href=\"#DejaVuSans-63\"/>\r\n      <use x=\"171.240234\" xlink:href=\"#DejaVuSans-20\"/>\r\n      <use x=\"203.027344\" xlink:href=\"#DejaVuSans-40\"/>\r\n      <use x=\"303.027344\" xlink:href=\"#DejaVuSans-6b\"/>\r\n     </g>\r\n    </g>\r\n   </g>\r\n   <g id=\"line2d_13\">\r\n    <path clip-path=\"url(#pcd96aa7497)\" d=\"M 55.821307 229.874489 \r\nL 89.639489 168.937783 \r\nL 123.45767 125.836211 \r\nL 157.275852 105.028556 \r\nL 191.094034 94.624728 \r\nL 224.912216 85.707161 \r\nL 258.730398 72.330811 \r\nL 292.54858 51.523156 \r\nL 326.366761 45.578111 \r\nL 360.184943 32.201761 \r\n\" style=\"fill:none;stroke:#1f77b4;stroke-linecap:square;stroke-width:1.5;\"/>\r\n   </g>\r\n   <g id=\"patch_3\">\r\n    <path d=\"M 40.603125 239.758125 \r\nL 40.603125 22.318125 \r\n\" style=\"fill:none;stroke:#000000;stroke-linecap:square;stroke-linejoin:miter;stroke-width:0.8;\"/>\r\n   </g>\r\n   <g id=\"patch_4\">\r\n    <path d=\"M 375.403125 239.758125 \r\nL 375.403125 22.318125 \r\n\" style=\"fill:none;stroke:#000000;stroke-linecap:square;stroke-linejoin:miter;stroke-width:0.8;\"/>\r\n   </g>\r\n   <g id=\"patch_5\">\r\n    <path d=\"M 40.603125 239.758125 \r\nL 375.403125 239.758125 \r\n\" style=\"fill:none;stroke:#000000;stroke-linecap:square;stroke-linejoin:miter;stroke-width:0.8;\"/>\r\n   </g>\r\n   <g id=\"patch_6\">\r\n    <path d=\"M 40.603125 22.318125 \r\nL 375.403125 22.318125 \r\n\" style=\"fill:none;stroke:#000000;stroke-linecap:square;stroke-linejoin:miter;stroke-width:0.8;\"/>\r\n   </g>\r\n   <g id=\"text_15\">\r\n    <!-- Accuracy @K=10 -->\r\n    <g transform=\"translate(156.105 16.318125)scale(0.12 -0.12)\">\r\n     <defs>\r\n      <path d=\"M 2188 4044 \r\nL 1331 1722 \r\nL 3047 1722 \r\nL 2188 4044 \r\nz\r\nM 1831 4666 \r\nL 2547 4666 \r\nL 4325 0 \r\nL 3669 0 \r\nL 3244 1197 \r\nL 1141 1197 \r\nL 716 0 \r\nL 50 0 \r\nL 1831 4666 \r\nz\r\n\" id=\"DejaVuSans-41\" transform=\"scale(0.015625)\"/>\r\n      <path d=\"M 544 1381 \r\nL 544 3500 \r\nL 1119 3500 \r\nL 1119 1403 \r\nQ 1119 906 1312 657 \r\nQ 1506 409 1894 409 \r\nQ 2359 409 2629 706 \r\nQ 2900 1003 2900 1516 \r\nL 2900 3500 \r\nL 3475 3500 \r\nL 3475 0 \r\nL 2900 0 \r\nL 2900 538 \r\nQ 2691 219 2414 64 \r\nQ 2138 -91 1772 -91 \r\nQ 1169 -91 856 284 \r\nQ 544 659 544 1381 \r\nz\r\nM 1991 3584 \r\nL 1991 3584 \r\nz\r\n\" id=\"DejaVuSans-75\" transform=\"scale(0.015625)\"/>\r\n      <path d=\"M 2631 2963 \r\nQ 2534 3019 2420 3045 \r\nQ 2306 3072 2169 3072 \r\nQ 1681 3072 1420 2755 \r\nQ 1159 2438 1159 1844 \r\nL 1159 0 \r\nL 581 0 \r\nL 581 3500 \r\nL 1159 3500 \r\nL 1159 2956 \r\nQ 1341 3275 1631 3429 \r\nQ 1922 3584 2338 3584 \r\nQ 2397 3584 2469 3576 \r\nQ 2541 3569 2628 3553 \r\nL 2631 2963 \r\nz\r\n\" id=\"DejaVuSans-72\" transform=\"scale(0.015625)\"/>\r\n      <path d=\"M 2059 -325 \r\nQ 1816 -950 1584 -1140 \r\nQ 1353 -1331 966 -1331 \r\nL 506 -1331 \r\nL 506 -850 \r\nL 844 -850 \r\nQ 1081 -850 1212 -737 \r\nQ 1344 -625 1503 -206 \r\nL 1606 56 \r\nL 191 3500 \r\nL 800 3500 \r\nL 1894 763 \r\nL 2988 3500 \r\nL 3597 3500 \r\nL 2059 -325 \r\nz\r\n\" id=\"DejaVuSans-79\" transform=\"scale(0.015625)\"/>\r\n      <path d=\"M 628 4666 \r\nL 1259 4666 \r\nL 1259 2694 \r\nL 3353 4666 \r\nL 4166 4666 \r\nL 1850 2491 \r\nL 4331 0 \r\nL 3500 0 \r\nL 1259 2247 \r\nL 1259 0 \r\nL 628 0 \r\nL 628 4666 \r\nz\r\n\" id=\"DejaVuSans-4b\" transform=\"scale(0.015625)\"/>\r\n      <path d=\"M 678 2906 \r\nL 4684 2906 \r\nL 4684 2381 \r\nL 678 2381 \r\nL 678 2906 \r\nz\r\nM 678 1631 \r\nL 4684 1631 \r\nL 4684 1100 \r\nL 678 1100 \r\nL 678 1631 \r\nz\r\n\" id=\"DejaVuSans-3d\" transform=\"scale(0.015625)\"/>\r\n     </defs>\r\n     <use xlink:href=\"#DejaVuSans-41\"/>\r\n     <use x=\"66.658203\" xlink:href=\"#DejaVuSans-63\"/>\r\n     <use x=\"121.638672\" xlink:href=\"#DejaVuSans-63\"/>\r\n     <use x=\"176.619141\" xlink:href=\"#DejaVuSans-75\"/>\r\n     <use x=\"239.998047\" xlink:href=\"#DejaVuSans-72\"/>\r\n     <use x=\"281.111328\" xlink:href=\"#DejaVuSans-61\"/>\r\n     <use x=\"342.390625\" xlink:href=\"#DejaVuSans-63\"/>\r\n     <use x=\"397.371094\" xlink:href=\"#DejaVuSans-79\"/>\r\n     <use x=\"456.550781\" xlink:href=\"#DejaVuSans-20\"/>\r\n     <use x=\"488.337891\" xlink:href=\"#DejaVuSans-40\"/>\r\n     <use x=\"588.337891\" xlink:href=\"#DejaVuSans-4b\"/>\r\n     <use x=\"653.914062\" xlink:href=\"#DejaVuSans-3d\"/>\r\n     <use x=\"737.703125\" xlink:href=\"#DejaVuSans-31\"/>\r\n     <use x=\"801.326172\" xlink:href=\"#DejaVuSans-30\"/>\r\n    </g>\r\n   </g>\r\n  </g>\r\n </g>\r\n <defs>\r\n  <clipPath id=\"pcd96aa7497\">\r\n   <rect height=\"217.44\" width=\"334.8\" x=\"40.603125\" y=\"22.318125\"/>\r\n  </clipPath>\r\n </defs>\r\n</svg>\r\n",
      "image/png": "[encoded data removed]"
     },
     "metadata": {
      "needs_background": "light"
     }
    }
   ],
   "source": [
    "acc_1 = 0\n",
    "acc_10 = 0\n",
    "top_k_list = [0] * 10\n",
    "for sketch_features, (name,_) in zip(sketch_features_tensor, sketches_Test):\n",
    "    # Pick the top 10 most similar labels for the image\n",
    "    sketch_features = sketch_features.unsqueeze(0)\n",
    "    sketch_features /= sketch_features.norm(dim=-1, keepdim=True)\n",
    "    icon_features_tensor /= icon_features_tensor.norm(dim=-1, keepdim=True)\n",
    "\n",
    "    similarity = (100.0 * sketch_features @ icon_features_tensor.T).softmax(dim=-1)\n",
    "    values, indices = similarity[0].topk(10)\n",
    "    top_10 = 0\n",
    "    count = 0\n",
    "    for index in indices:\n",
    "        if icons_Test[index][0] == name.split(\"_\")[0] and count == 0:\n",
    "            top_k_list[count] = top_k_list[count] + 1\n",
    "            acc_1 = acc_1 + 1\n",
    "            acc_10 = acc_10 + 1\n",
    "            break\n",
    "        elif icons_Test[index][0] == name.split(\"_\")[0]:\n",
    "            top_k_list[count] = top_k_list[count] + 1\n",
    "            acc_10 = acc_10 + 1\n",
    "            break\n",
    "        count = count + 1\n",
    "\n",
    "print(\"Top 1: \" + str(acc_1/len(sketches_Test)))\n",
    "print(\"Top 10: \" + str(acc_10/len(sketches_Test)))\n",
    "\n",
    "axisX = [0] * 10\n",
    "for i in range(0 , len(axisX)):\n",
    "  axisX[i] = i + 1\n",
    "\n",
    "for i in range(1, len(top_k_list)):\n",
    "  top_k_list[i] = top_k_list[i] + top_k_list[i-1]\n",
    "  top_k_list[i-1] = top_k_list[i-1] / len(sketches_Test) * 100\n",
    "top_k_list[9] = top_k_list[9] / len(sketches_Test) * 100\n",
    "\n",
    "plt.plot(axisX,top_k_list)\n",
    "# plt.ylim(ymin=0)\n",
    "# plt.xlim(xmin=0)\n",
    "plt.title('Accuracy @K=10')\n",
    "plt.xlabel('Rank(k)')\n",
    "plt.ylabel('acc @k')\n",
    "plt.show()"
   ]
  },
  {
   "cell_type": "code",
   "execution_count": 53,
   "metadata": {},
   "outputs": [],
   "source": [
    "folder_path = \"C:\\\\Users\\\\arist\\\\Desktop\\\\Results-Cluster\\\\ResNet50\\\\CLIP-Pretrained ResNet-Original\\\\Code-Human-Dataset\\\\\"\n",
    "rank_file = open(folder_path + \"top_10.txt\",\"w+\")\n",
    "top_10_list_string = ['{:.2f}'.format(x) for x in top_k_list]\n",
    "for value in top_10_list_string:\n",
    "  rank_file.write(value + \"\\n\")\n",
    "rank_file.close()"
   ]
  },
  {
   "source": [
    "## Sketch-Icon Retrieval tested with Euclidean distance"
   ],
   "cell_type": "markdown",
   "metadata": {}
  },
  {
   "cell_type": "code",
   "execution_count": 13,
   "metadata": {},
   "outputs": [
    {
     "output_type": "stream",
     "name": "stdout",
     "text": [
      "Top 1: 0.2043956043956044\nTop 10: 0.4967032967032967\n"
     ]
    }
   ],
   "source": [
    "acc_1 = 0\n",
    "acc_10 = 0\n",
    "sketch_features_numpy = sketch_features_tensor.cpu().numpy()\n",
    "icon_features_numpy = icon_features_tensor.cpu().numpy()\n",
    "for sketch_features, (name,_) in zip(sketch_features_numpy, sketches_Test):\n",
    "    # Pick the top 5 most similar labels for the image\n",
    "    sketch_representations_tile = np.tile(sketch_features, len(icons_Test)).reshape(len(icons_Test), 512)\n",
    "    diff = np.sqrt(np.mean((sketch_representations_tile - icon_features_numpy)**2, -1))\n",
    "    top_k = np.argsort(diff)[:10]\n",
    "    top_10 = 0\n",
    "    count = 0\n",
    "    for index in top_k:\n",
    "        if icons_Test[index][0] == name.split(\"_\")[0] and count == 0:\n",
    "            acc_1 = acc_1 + 1\n",
    "            acc_10 = acc_10 + 1\n",
    "            break\n",
    "        elif icons_Test[index][0] == name.split(\"_\")[0]:\n",
    "            acc_10 = acc_10 + 1\n",
    "            break\n",
    "        count = count + 1\n",
    "\n",
    "print(\"Top 1: \" + str(acc_1/len(sketches_Test)))\n",
    "print(\"Top 10: \" + str(acc_10/len(sketches_Test)))   "
   ]
  },
  {
   "cell_type": "code",
   "execution_count": null,
   "metadata": {},
   "outputs": [],
   "source": []
  }
 ]
}