{
 "metadata": {
  "language_info": {
   "codemirror_mode": {
    "name": "ipython",
    "version": 3
   },
   "file_extension": ".py",
   "mimetype": "text/x-python",
   "name": "python",
   "nbconvert_exporter": "python",
   "pygments_lexer": "ipython3",
   "version": "3.8.5-final"
  },
  "orig_nbformat": 2,
  "kernelspec": {
   "name": "python3",
   "display_name": "Python 3",
   "language": "python"
  }
 },
 "nbformat": 4,
 "nbformat_minor": 2,
 "cells": [
  {
   "cell_type": "code",
   "execution_count": 3,
   "metadata": {},
   "outputs": [],
   "source": [
    "import importlib\n",
    "\n",
    "#import tensorflow as tf\n",
    "import numpy as np\n",
    "import matplotlib.pyplot as plt\n",
    "import matplotlib.image as mpimg\n",
    "import utils\n",
    "#import model\n",
    "importlib.reload(utils)\n",
    "#importlib.reload(model)\n",
    "from utils import *\n",
    "#from model import *"
   ]
  },
  {
   "cell_type": "code",
   "execution_count": 9,
   "metadata": {},
   "outputs": [
    {
     "output_type": "stream",
     "name": "stdout",
     "text": [
      "We have 31806 samples.\n"
     ]
    }
   ],
   "source": [
    "\n",
    "dic = get_dict_icon_sketches()\n",
    "\n",
    "icons, icons_name_cat = load_icons(dic)\n",
    "sketches, sketch_names_array = load_sketches(dic)\n",
    "\n",
    "sketch_icon_indices, labels = create_positive_sketch_icon_indices(icons_name_cat, sketch_names_array)\n",
    "print(f'We have {len(sketch_icon_indices)} samples.')\n",
    "#TODO shuffle the indices"
   ]
  },
  {
   "cell_type": "code",
   "execution_count": 18,
   "metadata": {},
   "outputs": [
    {
     "output_type": "stream",
     "name": "stdout",
     "text": [
      "We have 25445 samples in the training set.\nWe have 6361 samples in the test set.\n"
     ]
    }
   ],
   "source": [
    "class Dataset():\n",
    "    def __init__(self, indices):\n",
    "        self.indices = indices\n",
    "\n",
    "    def __len__(self):\n",
    "        # Return the size of the dataset\n",
    "        return len(self.indices)\n",
    "\n",
    "    def __getitem__(self, index):\n",
    "        # Retrieve inputs and targets at the given index\n",
    "        indices = self.indices[index]\n",
    "\n",
    "        return indices\n",
    "\n",
    "def create_datasets(sketch_icon_indices, dataset_class, p_train=0.8, p_test=0.2):\n",
    "    len_data = len(sketch_icon_indices)\n",
    "\n",
    "    # Define partition sizes\n",
    "    num_train = int(np.ceil(len_data*p_train))\n",
    "    num_test = int(np.floor(len_data*p_test))\n",
    "\n",
    "    sketch_icon_indices_Train = sketch_icon_indices[:num_train]\n",
    "    sketch_icon_indices_Test = sketch_icon_indices[-num_test:]\n",
    "\n",
    "    training_set = dataset_class(sketch_icon_indices_Train)\n",
    "    test_set = dataset_class(sketch_icon_indices_Test)\n",
    "    return training_set, test_set\n",
    "\n",
    "training_set, test_set = create_datasets(sketch_icon_indices, Dataset)   \n",
    "print(f'We have {len(training_set)} samples in the training set.')\n",
    "print(f'We have {len(test_set)} samples in the test set.')"
   ]
  },
  {
   "cell_type": "code",
   "execution_count": 19,
   "metadata": {},
   "outputs": [
    {
     "output_type": "stream",
     "name": "stdout",
     "text": [
      "[0 0]\n[25444   942]\n[25445   942]\n[31805  1177]\n"
     ]
    }
   ],
   "source": []
  },
  {
   "cell_type": "code",
   "execution_count": null,
   "metadata": {},
   "outputs": [],
   "source": []
  }
 ]
}